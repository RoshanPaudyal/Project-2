{
 "cells": [
  {
   "cell_type": "code",
   "execution_count": null,
   "id": "c71e537d-ccdd-4e5e-bb88-128fa6c22b68",
   "metadata": {},
   "outputs": [],
   "source": [
    "# Closing prices for AAPL stock\n",
    "aapl_data ="
   ]
  },
  {
   "cell_type": "code",
   "execution_count": null,
   "id": "bc5d54c5-159c-4f57-8cd8-122176dbc798",
   "metadata": {},
   "outputs": [],
   "source": [
    "# Create the Pandas DataFrame using the price information supplied\n",
    "appl_df = pd.DataFrame(\n",
    "    {\"close\": aapl_data}\n",
    ")\n",
    "\n",
    "# Set the index as datetime objects starting from 2019-09-09 and onwards (but only business days)\n",
    "appl_df.index = pd.bdate_range(start='2019-09-30', periods=10)\n",
    "\n",
    "# Review the DataFrame\n",
    "appl_df"
   ]
  },
  {
   "cell_type": "code",
   "execution_count": null,
   "id": "23b16fd1-5525-43e3-adc2-89ba31e04f41",
   "metadata": {},
   "outputs": [],
   "source": [
    "# Initialize trade_type column for buys and sells\n",
    "appl_df['trade_type'] = np.nan\n",
    "\n",
    "# Initialize variable to hold the previous_price\n",
    "previous_price = 0"
   ]
  },
  {
   "cell_type": "code",
   "execution_count": null,
   "id": "e07da614-a3c4-4073-a5fe-cbb317578600",
   "metadata": {},
   "outputs": [],
   "source": [
    "# Initialize a cost/proceeds column for recording trade metrics\n",
    "appl_df[\"cost/proceeds\"] = np.nan"
   ]
  },
  {
   "cell_type": "code",
   "execution_count": null,
   "id": "9859ba6b-95eb-47ae-860e-b0d524377021",
   "metadata": {},
   "outputs": [],
   "source": [
    "# Initialize share_size equals 100 and accumulated_shares equals 0\n",
    "share_size = 100\n",
    "accumulated_shares = 0"
   ]
  },
  {
   "cell_type": "code",
   "execution_count": 2,
   "id": "38f9bb76-fa6b-4669-9e6f-d2192c0a0c93",
   "metadata": {},
   "outputs": [
    {
     "ename": "NameError",
     "evalue": "name 'appl_df' is not defined",
     "output_type": "error",
     "traceback": [
      "\u001b[0;31m---------------------------------------------------------------------------\u001b[0m",
      "\u001b[0;31mNameError\u001b[0m                                 Traceback (most recent call last)",
      "\u001b[0;32m/var/folders/rj/1x632h1s4sd0kkdrrlfl84t00000gn/T/ipykernel_18836/12278881.py\u001b[0m in \u001b[0;36m<module>\u001b[0;34m\u001b[0m\n\u001b[1;32m      1\u001b[0m \u001b[0;31m# Loop through the Pandas DataFrame and code the conditions of the trading strategy\u001b[0m\u001b[0;34m\u001b[0m\u001b[0;34m\u001b[0m\u001b[0m\n\u001b[0;32m----> 2\u001b[0;31m \u001b[0;32mfor\u001b[0m \u001b[0mindex\u001b[0m\u001b[0;34m,\u001b[0m \u001b[0mrow\u001b[0m \u001b[0;32min\u001b[0m \u001b[0mappl_df\u001b[0m\u001b[0;34m.\u001b[0m\u001b[0miterrows\u001b[0m\u001b[0;34m(\u001b[0m\u001b[0;34m)\u001b[0m\u001b[0;34m:\u001b[0m\u001b[0;34m\u001b[0m\u001b[0;34m\u001b[0m\u001b[0m\n\u001b[0m\u001b[1;32m      3\u001b[0m \u001b[0;34m\u001b[0m\u001b[0m\n\u001b[1;32m      4\u001b[0m     \u001b[0;31m# buy if the previous price is 0, in other words, buy on the first day\u001b[0m\u001b[0;34m\u001b[0m\u001b[0;34m\u001b[0m\u001b[0m\n\u001b[1;32m      5\u001b[0m     \u001b[0;31m# set the cost/proceeds column equal to the negative value of the row close price\u001b[0m\u001b[0;34m\u001b[0m\u001b[0;34m\u001b[0m\u001b[0m\n",
      "\u001b[0;31mNameError\u001b[0m: name 'appl_df' is not defined"
     ]
    }
   ],
   "source": [
    "# Loop through the Pandas DataFrame and code the conditions of the trading strategy \n",
    "for index, row in appl_df.iterrows():\n",
    "    \n",
    "    # buy if the previous price is 0, in other words, buy on the first day\n",
    "    # set the cost/proceeds column equal to the negative value of the row close price\n",
    "    # multiplied by the share_size\n",
    "    if previous_price == 0:\n",
    "        appl_df.loc[index, \"trade_type\"] = \"buy\"\n",
    "        appl_df.loc[index, \"cost/proceeds\"] = -(row[\"close\"] * share_size)\n",
    "        accumulated_shares += share_size\n",
    "        print(f\"{index}: Bought {share_size} shares, total {accumulated_shares}\")\n",
    "\n",
    "    # buy if the current day price is less than the previous day price\n",
    "    # set the cost/proceeds column equal to the negative value of the row close price\n",
    "    # multiplied by the share_size\n",
    "    elif row[\"close\"] < previous_price:\n",
    "        appl_df.loc[index, \"trade_type\"] = \"buy\"\n",
    "        appl_df.loc[index, \"cost/proceeds\"] = -(row[\"close\"] * share_size)\n",
    "        accumulated_shares += share_size\n",
    "        print(f\"{index}: Bought {share_size} shares, total {accumulated_shares}\")\n",
    "    \n",
    "    # sell if the current day price is greater than the previous day price\n",
    "    elif row[\"close\"] > previous_price and accumulated_shares > 0 and index != amd_df.index[-1]:\n",
    "        appl_df.loc[index, \"trade_type\"] = \"sell\"\n",
    "        appl_df.loc[index, \"cost/proceeds\"] = row[\"close\"] * share_size\n",
    "        print(f\"{index}: Sold {accumulated_shares} shares\")\n",
    "        accumulated_shares -= share_size\n",
    "        # accumulated_shares = 0       \n",
    "\n",
    "    # else hold if the current day price is equal to the previous day price\n",
    "    else:\n",
    "        appl_df.loc[index, \"trade_type\"] = \"hold\"\n",
    "    \n",
    "    # set the previous_price variable to the close price of the current row\n",
    "    previous_price = row[\"close\"]\n",
    "    \n",
    "    # if the index is the last index of the Dataframe, sell\n",
    "    # set the cost/proceeds column equal to the row close price multiplied \n",
    "    # by the accumulated_shares\n",
    "    if index == amd_df.index[-1]:\n",
    "        appl_df.loc[index, \"trade_type\"] = \"sell\"\n",
    "        appl_df.loc[index, \"cost/proceeds\"] = row[\"close\"] * accumulated_shares\n",
    "        print(f\"{index}: Sold {accumulated_shares} shares\")\n",
    "        accumulated_shares = 0"
   ]
  },
  {
   "cell_type": "code",
   "execution_count": 3,
   "id": "a4de9162-af8c-4b1d-bb5c-1ab7ae29c4c4",
   "metadata": {},
   "outputs": [
    {
     "ename": "NameError",
     "evalue": "name 'appl_df' is not defined",
     "output_type": "error",
     "traceback": [
      "\u001b[0;31m---------------------------------------------------------------------------\u001b[0m",
      "\u001b[0;31mNameError\u001b[0m                                 Traceback (most recent call last)",
      "\u001b[0;32m/var/folders/rj/1x632h1s4sd0kkdrrlfl84t00000gn/T/ipykernel_18836/2976117253.py\u001b[0m in \u001b[0;36m<module>\u001b[0;34m\u001b[0m\n\u001b[1;32m      1\u001b[0m \u001b[0;31m# Run the algorithm and review the DataFrame\u001b[0m\u001b[0;34m\u001b[0m\u001b[0;34m\u001b[0m\u001b[0m\n\u001b[0;32m----> 2\u001b[0;31m \u001b[0mappl_df\u001b[0m\u001b[0;34m\u001b[0m\u001b[0;34m\u001b[0m\u001b[0m\n\u001b[0m",
      "\u001b[0;31mNameError\u001b[0m: name 'appl_df' is not defined"
     ]
    }
   ],
   "source": [
    "# Run the algorithm and review the DataFrame\n",
    "appl_df"
   ]
  },
  {
   "cell_type": "code",
   "execution_count": null,
   "id": "550f0752-acb8-4b64-8ae2-8d44e1f81f46",
   "metadata": {},
   "outputs": [],
   "source": [
    "#Calculate the total profit or loss for the trading algorithm by summing the values in the \"cost/proceeds\" column. \n",
    "\n",
    "# Calculate the total profit/loss for 100 share size orders\n",
    "total_profit_loss = round(appl_df[\"cost/proceeds\"].sum(), 2)\n",
    "\n",
    "# Print the profit/loss metrics\n",
    "print(f\"The total profit/loss of the trading strategy is ${total_profit_loss}.\")"
   ]
  },
  {
   "cell_type": "code",
   "execution_count": null,
   "id": "ec95be06-c8fe-4240-a3f2-af1a330e1303",
   "metadata": {},
   "outputs": [],
   "source": [
    "#Calculate the ROI for the trades\n",
    "\n",
    "# Initialize the variable to hold the value of the invested capital\n",
    "invested_capital = 0"
   ]
  },
  {
   "cell_type": "code",
   "execution_count": null,
   "id": "6dc8ee07-a220-4f30-8e4b-3312a7f7d42c",
   "metadata": {},
   "outputs": [],
   "source": [
    "# Calculate the invested capital by adding the cost of all buy trades\n",
    "for index, row in appl_df.iterrows():\n",
    "    if row[\"trade_type\"] == \"buy\":\n",
    "        invested_capital = invested_capital + row[\"cost/proceeds\"]"
   ]
  },
  {
   "cell_type": "code",
   "execution_count": null,
   "id": "e433085b-276b-4e2e-8da3-b80be17a9506",
   "metadata": {},
   "outputs": [],
   "source": [
    "# Calculate the return on investment (ROI)\n",
    "roi = round((total_profit_loss / -(invested_capital)) * 100, 2)\n",
    "         \n",
    "# Print the ROI\n",
    "print(f\"The trading algorithm resulted in a return on investment of {roi}%\")"
   ]
  }
 ],
 "metadata": {
  "kernelspec": {
   "display_name": "Python 3 (ipykernel)",
   "language": "python",
   "name": "python3"
  },
  "language_info": {
   "codemirror_mode": {
    "name": "ipython",
    "version": 3
   },
   "file_extension": ".py",
   "mimetype": "text/x-python",
   "name": "python",
   "nbconvert_exporter": "python",
   "pygments_lexer": "ipython3",
   "version": "3.9.13"
  }
 },
 "nbformat": 4,
 "nbformat_minor": 5
}
